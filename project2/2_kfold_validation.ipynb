{
 "cells": [
  {
   "cell_type": "code",
   "execution_count": 1,
   "id": "44648227",
   "metadata": {},
   "outputs": [],
   "source": [
    "import warnings\n",
    "import numpy as np\n",
    "import pandas as pd\n",
    "import seaborn as sns\n",
    "import matplotlib.pyplot as plot\n",
    "from sklearn.linear_model import LogisticRegression\n",
    "from sklearn.model_selection import (\n",
    "                                    StratifiedKFold,\n",
    "                                    cross_validate\n",
    "                                    )\n",
    "warnings.filterwarnings('ignore')"
   ]
  },
  {
   "cell_type": "markdown",
   "id": "2a97b1bf",
   "metadata": {},
   "source": [
    "### 1. Load Data\n"
   ]
  },
  {
   "cell_type": "code",
   "execution_count": 2,
   "id": "a241e08a",
   "metadata": {},
   "outputs": [],
   "source": [
    "X_train = np.load('artifacts/X_train.npz')['arr_0']\n",
    "Y_train = np.load('artifacts/Y_train.npz')['arr_0']\n",
    "X_test = np.load('artifacts/X_test.npz')['arr_0']\n",
    "Y_test = np.load('artifacts/Y_test.npz')['arr_0']"
   ]
  },
  {
   "cell_type": "markdown",
   "id": "56416397",
   "metadata": {},
   "source": [
    "### 2. Configure k-Fold CV"
   ]
  },
  {
   "cell_type": "code",
   "execution_count": 3,
   "id": "4fe346ac",
   "metadata": {},
   "outputs": [],
   "source": [
    "cv = StratifiedKFold(\n",
    "                      n_splits =6,\n",
    "                      random_state=42,\n",
    "                      shuffle= True\n",
    "                    )\n",
    "\n"
   ]
  },
  {
   "cell_type": "code",
   "execution_count": 4,
   "id": "d6574505",
   "metadata": {},
   "outputs": [],
   "source": [
    "model_lr = LogisticRegression(\n",
    "                              random_state = 42,\n",
    "                              max_iter= 1000\n",
    "                            )"
   ]
  },
  {
   "cell_type": "code",
   "execution_count": 5,
   "id": "d39b0f93",
   "metadata": {},
   "outputs": [],
   "source": [
    "cv_results = cross_validate(\n",
    "                            model_lr,\n",
    "                            X_train,\n",
    "                            Y_train,\n",
    "                            cv =cv, scoring= 'accuracy',\n",
    "                            return_train_score= True\n",
    "                          )"
   ]
  },
  {
   "cell_type": "code",
   "execution_count": 10,
   "id": "930b7a3c",
   "metadata": {},
   "outputs": [
    {
     "name": "stdout",
     "output_type": "stream",
     "text": [
      "accuracy : 0.7306608765891984\n",
      "precision : 0.728767491464764\n",
      "recall : 0.7349241825841353\n",
      "f1 : 0.7318169755021501\n"
     ]
    }
   ],
   "source": [
    "score_arr = ['accuracy', 'precision', 'recall', 'f1']\n",
    "for score in score_arr:\n",
    "    cv_results = cross_validate(\n",
    "        model_lr,\n",
    "        X_train,\n",
    "        Y_train,\n",
    "        cv=cv,\n",
    "        scoring =score,\n",
    "        return_train_score=True\n",
    "    )\n",
    "  \n",
    "    test_score = cv_results['test_score']\n",
    "    test_score_avg = np.mean(test_score)\n",
    "    print(f\"{score} : {test_score_avg}\")\n"
   ]
  }
 ],
 "metadata": {
  "kernelspec": {
   "display_name": "bprmls",
   "language": "python",
   "name": "python3"
  },
  "language_info": {
   "codemirror_mode": {
    "name": "ipython",
    "version": 3
   },
   "file_extension": ".py",
   "mimetype": "text/x-python",
   "name": "python",
   "nbconvert_exporter": "python",
   "pygments_lexer": "ipython3",
   "version": "3.12.11"
  }
 },
 "nbformat": 4,
 "nbformat_minor": 5
}
